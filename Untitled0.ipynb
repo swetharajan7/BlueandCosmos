{
  "nbformat": 4,
  "nbformat_minor": 0,
  "metadata": {
    "colab": {
      "provenance": [],
      "authorship_tag": "ABX9TyOKrGaVjS8f/3aPbfMNtFiC",
      "include_colab_link": true
    },
    "kernelspec": {
      "name": "python3",
      "display_name": "Python 3"
    },
    "language_info": {
      "name": "python"
    }
  },
  "cells": [
    {
      "cell_type": "markdown",
      "metadata": {
        "id": "view-in-github",
        "colab_type": "text"
      },
      "source": [
        "<a href=\"https://colab.research.google.com/github/swetharajan7/BlueandCosmos/blob/main/Untitled0.ipynb\" target=\"_parent\"><img src=\"https://colab.research.google.com/assets/colab-badge.svg\" alt=\"Open In Colab\"/></a>"
      ]
    },
    {
      "cell_type": "code",
      "execution_count": null,
      "metadata": {
        "id": "qF7ZsX5pQ5Ql"
      },
      "outputs": [],
      "source": []
    },
    {
      "cell_type": "code",
      "source": [
        "# Save a simple HTML website\n",
        "html_code = \"\"\"\n",
        "<!DOCTYPE html>\n",
        "<html>\n",
        "<head>\n",
        "  <title>BlueandCosmos</title>\n",
        "  <style>\n",
        "    body { font-family: Arial, sans-serif; background: #0a0f29; color: white; text-align: center; padding: 50px; }\n",
        "    h1 { color: #00d4ff; }\n",
        "  </style>\n",
        "</head>\n",
        "<body>\n",
        "  <h1>Welcome to BlueandCosmos</h1>\n",
        "  <p>Exploring the Cosmos. Protecting the Earth.</p>\n",
        "</body>\n",
        "</html>\n",
        "\"\"\"\n",
        "\n",
        "with open(\"index.html\", \"w\") as f:\n",
        "    f.write(html_code)\n",
        ""
      ],
      "metadata": {
        "id": "KXCm4EKtrJM6"
      },
      "execution_count": null,
      "outputs": []
    }
  ]
}